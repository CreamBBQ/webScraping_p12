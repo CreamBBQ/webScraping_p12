{
 "cells": [
  {
   "cell_type": "code",
   "execution_count": 8,
   "metadata": {},
   "outputs": [
    {
     "data": {
      "text/plain": [
       "[<li class=\"p12-separator--right--primary\"><a href=\"https://www.pagina12.com.ar/secciones/el-pais\">El país</a></li>,\n",
       " <li class=\"p12-separator--right--primary\"><a href=\"https://www.pagina12.com.ar/secciones/economia\">Economía</a></li>,\n",
       " <li class=\"p12-separator--right--primary\"><a href=\"https://www.pagina12.com.ar/secciones/sociedad\">Sociedad</a></li>,\n",
       " <li class=\"no-separator-on-1040 p12-separator--right--primary\"><a href=\"https://www.pagina12.com.ar/suplementos/cultura-y-espectaculos\">Cultura y Espectáculos</a></li>,\n",
       " <li class=\"hide-on-1040 p12-separator--right--primary\"><a href=\"https://www.pagina12.com.ar/secciones/el-mundo\">El mundo</a></li>,\n",
       " <li class=\"hide-on-1040 p12-separator--right--primary\"><a href=\"https://www.pagina12.com.ar/secciones/dialogos\">Diálogos</a></li>,\n",
       " <li class=\"hide-on-1040\"><a href=\"https://www.pagina12.com.ar/secciones/contratapa\">Contratapa</a></li>]"
      ]
     },
     "execution_count": 8,
     "metadata": {},
     "output_type": "execute_result"
    }
   ],
   "source": [
    "import requests\n",
    "import lxml\n",
    "from bs4 import BeautifulSoup\n",
    "url = 'https://www.pagina12.com.ar/'\n",
    "p12 = requests.get(url)\n",
    "soup = BeautifulSoup(p12.text, 'lxml')\n",
    "#print(soup.prettify()) printea la jerarquización\n",
    "hot_sections = soup.find('ul', attrs={'class':'horizontal-list main-sections hide-on-dropdown'}).find_all('li') #parte superior de la página\n",
    "hot_sections"
   ]
  },
  {
   "cell_type": "code",
   "execution_count": 9,
   "metadata": {},
   "outputs": [
    {
     "data": {
      "text/plain": [
       "<li class=\"p12-separator--right--primary\"><a href=\"https://www.pagina12.com.ar/secciones/el-pais\">El país</a></li>"
      ]
     },
     "execution_count": 9,
     "metadata": {},
     "output_type": "execute_result"
    }
   ],
   "source": [
    "section= hot_sections[0]\n",
    "section"
   ]
  },
  {
   "cell_type": "code",
   "execution_count": 10,
   "metadata": {},
   "outputs": [
    {
     "data": {
      "text/plain": [
       "<a href=\"https://www.pagina12.com.ar/secciones/el-pais\">El país</a>"
      ]
     },
     "execution_count": 10,
     "metadata": {},
     "output_type": "execute_result"
    }
   ],
   "source": [
    "section.find('a')"
   ]
  },
  {
   "cell_type": "code",
   "execution_count": 11,
   "metadata": {},
   "outputs": [
    {
     "data": {
      "text/plain": [
       "'El país'"
      ]
     },
     "execution_count": 11,
     "metadata": {},
     "output_type": "execute_result"
    }
   ],
   "source": [
    "section.find('a').get_text()"
   ]
  },
  {
   "cell_type": "code",
   "execution_count": 13,
   "metadata": {},
   "outputs": [
    {
     "data": {
      "text/plain": [
       "'https://www.pagina12.com.ar/secciones/el-pais'"
      ]
     },
     "execution_count": 13,
     "metadata": {},
     "output_type": "execute_result"
    }
   ],
   "source": [
    "section.find('a').get('href')"
   ]
  },
  {
   "cell_type": "code",
   "execution_count": 14,
   "metadata": {},
   "outputs": [
    {
     "data": {
      "text/plain": [
       "['https://www.pagina12.com.ar/secciones/el-pais',\n",
       " 'https://www.pagina12.com.ar/secciones/economia',\n",
       " 'https://www.pagina12.com.ar/secciones/sociedad',\n",
       " 'https://www.pagina12.com.ar/suplementos/cultura-y-espectaculos',\n",
       " 'https://www.pagina12.com.ar/secciones/el-mundo',\n",
       " 'https://www.pagina12.com.ar/secciones/dialogos',\n",
       " 'https://www.pagina12.com.ar/secciones/contratapa']"
      ]
     },
     "execution_count": 14,
     "metadata": {},
     "output_type": "execute_result"
    }
   ],
   "source": [
    "links_hot_section = [section.find('a').get('href') for section in hot_sections]\n",
    "links_hot_section"
   ]
  },
  {
   "cell_type": "code",
   "execution_count": 16,
   "metadata": {},
   "outputs": [
    {
     "data": {
      "text/plain": [
       "['El país',\n",
       " 'Economía',\n",
       " 'Sociedad',\n",
       " 'Cultura y Espectáculos',\n",
       " 'El mundo',\n",
       " 'Diálogos',\n",
       " 'Contratapa']"
      ]
     },
     "execution_count": 16,
     "metadata": {},
     "output_type": "execute_result"
    }
   ],
   "source": [
    "text_hot_section = [section.find('a').get_text() for section in hot_sections]\n",
    "text_hot_section"
   ]
  }
 ],
 "metadata": {
  "interpreter": {
   "hash": "1d57ea3ec0f4686f0286ac30fec50bb5c736825524238454e5e32bcfa51ccb47"
  },
  "kernelspec": {
   "display_name": "Python 3.9.7 ('venv': venv)",
   "language": "python",
   "name": "python3"
  },
  "language_info": {
   "codemirror_mode": {
    "name": "ipython",
    "version": 3
   },
   "file_extension": ".py",
   "mimetype": "text/x-python",
   "name": "python",
   "nbconvert_exporter": "python",
   "pygments_lexer": "ipython3",
   "version": "3.9.7"
  },
  "orig_nbformat": 4
 },
 "nbformat": 4,
 "nbformat_minor": 2
}
